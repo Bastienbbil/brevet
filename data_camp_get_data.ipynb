{
 "cells": [
  {
   "cell_type": "markdown",
   "metadata": {},
   "source": [
    "# Scrapping and merging code\n",
    "- This notebook gives the code used to scrap the target (the success rate at the 'bervet des collèges' from the site 'Le journal des Femmes'\n",
    "- it also gives the merge procedure with a table with a lot of data per college from data_gouv. \n",
    "- Finally there is a small cleaning code for some macro socio economic data per cities\n",
    "- More information about the data is provided in the starting_kit_notebook"
   ]
  },
  {
   "cell_type": "code",
   "execution_count": null,
   "metadata": {},
   "outputs": [],
   "source": [
    "import pandas as pd\n",
    "pd.set_option('display.max_columns', 500)\n",
    "pd.set_option(\"display.max_rows\", 500)\n",
    "import re\n",
    "import recordlinkage as rl"
   ]
  },
  {
   "cell_type": "markdown",
   "metadata": {},
   "source": [
    "## Geographic data\n",
    "\n",
    "- a table with some socio economic data per city"
   ]
  },
  {
   "cell_type": "code",
   "execution_count": null,
   "metadata": {},
   "outputs": [],
   "source": [
    "# donnees per city \n",
    "\n",
    "cities_data = pd.read_excel(\"./data//donnees_geographiques/insee_communes/base_cc_comparateur.xls\", sheet_name = 0, header = 4, skiprows = 1)\n",
    "arrondissements_data = pd.read_excel(\"./data/donnees_geographiques/insee_communes/base_cc_comparateur.xls\", sheet_name = 1, header = 4, skiprows = 1)\n",
    "#drop Paris, Lyon and Marseilles in cities_data\n",
    "cities_data = cities_data.drop(cities_data[cities_data.LIBGEO.isin([\"Paris\", \"Lyon\", \"Marseille\"])].index)\n",
    "cities_data = pd.concat([cities_data, arrondissements_data], ignore_index=True)\n"
   ]
  },
  {
   "cell_type": "code",
   "execution_count": null,
   "metadata": {},
   "outputs": [],
   "source": [
    "cities_data.head()"
   ]
  },
  {
   "cell_type": "code",
   "execution_count": null,
   "metadata": {},
   "outputs": [],
   "source": [
    "\n",
    "#correspondance between the postal code and the insee code\n",
    "cp_ci = pd.read_csv(\"./data/donnees_geographiques/donnees_postal_code/code-postal-code-insee-2015.csv\", sep = \";\")"
   ]
  },
  {
   "cell_type": "code",
   "execution_count": null,
   "metadata": {},
   "outputs": [],
   "source": [
    "cities_data.CODGEO = cities_data.CODGEO.astype(str) #codgeo = insee code\n",
    "mapper_insee_cp = dict(zip(cp_ci.INSEE_COM, cp_ci.Code_postal.apply(lambda x: \"nan\" if x !=x else str(x)[:-2])))\n",
    "cities_data[\"postal_code\"] = cities_data.CODGEO.apply(lambda x: mapper_insee_cp[x] if x in mapper_insee_cp.keys() else \"nan\" )\n",
    "\n",
    "cities_data.rename(columns = {\"CODGEO\":\"insee_code\", \"P15_POP\":\"population\",\"MED15\":\"med_std_living\", \"TP6015\":\"poverty_rate\",\n",
    "                              \"P15_CHOM1564\":\"nb_unemployed\", \"P15_ACT1564\":\"labour_force\"}, inplace=True)\n",
    "cities_data['unemployment_rate'] = cities_data['nb_unemployed']/cities_data['labour_force']"
   ]
  },
  {
   "cell_type": "code",
   "execution_count": null,
   "metadata": {},
   "outputs": [],
   "source": [
    "cities_data.head()"
   ]
  },
  {
   "cell_type": "code",
   "execution_count": null,
   "metadata": {},
   "outputs": [],
   "source": [
    "cities_data.to_csv(\"./data/donnees_geographiques/cities_data.csv\")"
   ]
  },
  {
   "cell_type": "markdown",
   "metadata": {},
   "source": [
    "### Scrapping de la target : Taux moyen de reussite au brevet sur 3 ans "
   ]
  },
  {
   "cell_type": "code",
   "execution_count": null,
   "metadata": {},
   "outputs": [],
   "source": [
    "from urllib.request import urlopen\n",
    "from bs4 import BeautifulSoup"
   ]
  },
  {
   "cell_type": "markdown",
   "metadata": {},
   "source": [
    "### Scrapping journal des femmes\n",
    "- we scrapped the name of the college, its city and success rate\n",
    "- WARNING : the code is quite long to run (one hour)\n",
    " "
   ]
  },
  {
   "cell_type": "code",
   "execution_count": null,
   "metadata": {},
   "outputs": [],
   "source": [
    "# code scrapping \n",
    "url = 'https://www.journaldesfemmes.fr/maman/ecole/classement/colleges/taux-reussite-brevet?'\n",
    "html = urlopen(url)\n",
    "soup = BeautifulSoup(html, \"html\")\n",
    "last_page = 120\n",
    "\n",
    "colleges = []\n",
    "target = [] # the success rate\n",
    "villes = []\n",
    "\n",
    "for p in range(1, last_page +1):\n",
    "    url2 = url+'page='+str(p)\n",
    "    html2 = urlopen(url2)\n",
    "    soup2 = BeautifulSoup(html2, \"html\")\n",
    "    res = [i for i in soup2.find_all(['tr'])][1:] # not interested by the first row\n",
    "    for i in res:\n",
    "        #get the name\n",
    "        colleges.append(i.find_all('td')[1].text)\n",
    "        #get the target \n",
    "        target.append(i.find_all('td')[2].text)\n",
    "        \n",
    "        #get the city\n",
    "        url_college = 'https://www.journaldesfemmes.fr'+ i.find('a').attrs['href']\n",
    "        html_college = urlopen(url_college)\n",
    "        soup_college = BeautifulSoup(html_college, 'html')\n",
    "        villes.append(soup_college.find_all('tr')[3].find('a').text)\n",
    "        assert len(colleges) == len(target)\n",
    "        assert len(colleges) == len(villes)\n",
    "        \n",
    "        \n",
    "       "
   ]
  },
  {
   "cell_type": "code",
   "execution_count": null,
   "metadata": {},
   "outputs": [],
   "source": [
    "data_colleges = pd.DataFrame({'Name':colleges,\n",
    "                             'target':target,\n",
    "                             'ville':villes})"
   ]
  },
  {
   "cell_type": "code",
   "execution_count": null,
   "metadata": {},
   "outputs": [],
   "source": [
    "def treat_rate(x):\n",
    "    x = re.sub('\\s','', x)\n",
    "    x = re.sub('%','', x)\n",
    "    x = re.sub(',','.', x)\n",
    "    return np.float(x)\n",
    " \n",
    "data_colleges['target'] = data_colleges['target'].apply(treat_rate)"
   ]
  },
  {
   "cell_type": "code",
   "execution_count": null,
   "metadata": {},
   "outputs": [],
   "source": [
    "def treat_college(x):\n",
    "    x = re.sub('Collège ', '', x)\n",
    "    return x\n"
   ]
  },
  {
   "cell_type": "code",
   "execution_count": null,
   "metadata": {},
   "outputs": [],
   "source": [
    "data_colleges.head()"
   ]
  },
  {
   "cell_type": "code",
   "execution_count": null,
   "metadata": {},
   "outputs": [],
   "source": [
    "#to csv \n",
    "data_colleges.to_csv('./data/college/target.csv')"
   ]
  },
  {
   "cell_type": "markdown",
   "metadata": {},
   "source": [
    "## Merging\n",
    "\n",
    "- We merge the target data frame with a table found on (source <a href= 'https://www.data.gouv.fr/fr/datasets/colleges-education-prioritaire/'> data.gouv </a> ) with a lot of informations about the college\n",
    "- As a lot of colleges have the same name, we also need the city to do the merge.\n",
    "- We use the clean function of the record linkage "
   ]
  },
  {
   "cell_type": "code",
   "execution_count": null,
   "metadata": {},
   "outputs": [],
   "source": [
    "# target data\n",
    "target = pd.read_csv('./data/college/target.csv', index_col=0)\n",
    "target.head()"
   ]
  },
  {
   "cell_type": "code",
   "execution_count": null,
   "metadata": {},
   "outputs": [],
   "source": [
    "# data of data.gouv\n",
    "rep_data = pd.read_csv(\"./data/college/fr-en-colleges-ep.csv\", sep=';')\n",
    "# we only select the 2017 year as this is the year of the ranking on the journal des femmes website\n",
    "rep_data = rep_data[rep_data['Rentrée scolaire'] == 2017]\n",
    "print('shape', rep_data.shape)\n",
    "rep_data.rename(columns={'Patronyme':'Name', 'Commune nom':'City_name'}, inplace=True)\n",
    "rep_data.head()\n"
   ]
  },
  {
   "cell_type": "code",
   "execution_count": null,
   "metadata": {},
   "outputs": [],
   "source": [
    "from recordlinkage.preprocessing import clean"
   ]
  },
  {
   "cell_type": "code",
   "execution_count": null,
   "metadata": {},
   "outputs": [],
   "source": [
    "target.Name = clean(target.Name, strip_accents='unicode') # remove accent\n",
    "target.Name = target.Name.apply(lambda x: re.sub('college ', '', x)) #remove the word college\n",
    "target.Name = target.Name.apply(lambda x:re.sub('prive ', '', x)) #remove the word prive\n",
    "target.ville = clean(target.ville, strip_accents='unicode')\n",
    "rep_data.Name = clean(rep_data.Name)\n",
    "rep_data.City_name = clean(rep_data.City_name)"
   ]
  },
  {
   "cell_type": "code",
   "execution_count": null,
   "metadata": {},
   "outputs": [],
   "source": [
    "target.head()"
   ]
  },
  {
   "cell_type": "code",
   "execution_count": null,
   "metadata": {},
   "outputs": [],
   "source": [
    "data_college = pd.merge(rep_data, target, left_on=['Name', 'City_name'], right_on=['Name', 'ville'], how='inner')\n",
    "data_college.drop(columns=['ville'], axis=1, inplace=True) #drop the ville and keep city_name"
   ]
  },
  {
   "cell_type": "code",
   "execution_count": null,
   "metadata": {},
   "outputs": [],
   "source": [
    "data_college.head()"
   ]
  },
  {
   "cell_type": "code",
   "execution_count": null,
   "metadata": {},
   "outputs": [],
   "source": [
    "data_college.shape"
   ]
  },
  {
   "cell_type": "code",
   "execution_count": null,
   "metadata": {},
   "outputs": [],
   "source": [
    "drop_col = [\"Identifiant de l'établissement dans la base\",\n",
    "            'Rentrée scolaire',\n",
    "           'Numéro établissement',\n",
    "            'Type établissement code',\n",
    "           'Type établissement nom',\n",
    "            'Secteur code', #all public\n",
    "            'Secteur nom'\n",
    "           ]\n",
    "\n",
    "data_college.drop(columns=drop_col, axis=1, inplace=True)"
   ]
  },
  {
   "cell_type": "code",
   "execution_count": null,
   "metadata": {},
   "outputs": [],
   "source": [
    "data_college.to_csv('./data/college/data_college.csv') #merge df "
   ]
  }
 ],
 "metadata": {
  "kernelspec": {
   "display_name": "Python 3",
   "language": "python",
   "name": "python3"
  },
  "language_info": {
   "codemirror_mode": {
    "name": "ipython",
    "version": 3
   },
   "file_extension": ".py",
   "mimetype": "text/x-python",
   "name": "python",
   "nbconvert_exporter": "python",
   "pygments_lexer": "ipython3",
   "version": "3.7.5"
  }
 },
 "nbformat": 4,
 "nbformat_minor": 4
}
